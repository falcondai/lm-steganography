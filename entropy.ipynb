{
 "cells": [
  {
   "cell_type": "code",
   "execution_count": 2,
   "metadata": {},
   "outputs": [],
   "source": [
    "from matplotlib import pyplot\n",
    "import numpy as np"
   ]
  },
  {
   "cell_type": "code",
   "execution_count": 3,
   "metadata": {},
   "outputs": [
    {
     "name": "stdout",
     "output_type": "stream",
     "text": [
      "vocab size:  50257\n",
      "sentences number:  41\n"
     ]
    }
   ],
   "source": [
    "with open(\"./samples/sample_sents_prob.npy\", 'rb') as f:\n",
    "    prob_set = np.load(f)\n",
    "with open(\"./samples/sample_sents_idxs.npy\", 'rb') as f:\n",
    "    idx_set = np.load(f)\n",
    "with open(\"./samples/sample_sents_tokens.npy\", 'rb') as f:\n",
    "    tk_set = np.load(f)\n",
    "\n",
    "print(\"vocab size: \", len(prob_set[0,0]))\n",
    "print(\"sentences number: \", len(idx_set[0]))"
   ]
  },
  {
   "cell_type": "markdown",
   "metadata": {},
   "source": [
    "## 1. calculate entropy at each step"
   ]
  },
  {
   "cell_type": "code",
   "execution_count": 4,
   "metadata": {},
   "outputs": [],
   "source": [
    "entropy_ls = []\n",
    "for i in range(len(prob_set)):\n",
    "    for j in range(len(prob_set[i])):\n",
    "        \n",
    "        entropy = -prob_set[i,j] @ np.log2(prob_set[i,j])\n",
    "        entropy_ls.append(entropy)"
   ]
  },
  {
   "cell_type": "code",
   "execution_count": 5,
   "metadata": {},
   "outputs": [
    {
     "data": {
      "text/plain": [
       "Text(0.5, 0, 'entropy')"
      ]
     },
     "execution_count": 5,
     "metadata": {},
     "output_type": "execute_result"
    },
    {
     "data": {
      "image/png": "[encoded data removed]",
      "text/plain": [
       "<Figure size 432x288 with 1 Axes>"
      ]
     },
     "metadata": {},
     "output_type": "display_data"
    }
   ],
   "source": [
    "import matplotlib.pyplot as plt\n",
    "import numpy as np\n",
    "%matplotlib inline\n",
    "x = entropy_ls\n",
    "plt.hist(x, bins=100)\n",
    "plt.ylabel('count');\n",
    "plt.xlabel('entropy')"
   ]
  },
  {
   "cell_type": "markdown",
   "metadata": {},
   "source": [
    "## 2. check a sample sentence entropy "
   ]
  },
  {
   "cell_type": "code",
   "execution_count": 6,
   "metadata": {},
   "outputs": [],
   "source": [
    "entropy_ls = []\n",
    "i = 48\n",
    "for j in range(len(prob_set[i])):\n",
    "\n",
    "    entropy = np.sum(-prob_set[i,j] * np.log2(prob_set[i,j]))\n",
    "    entropy_ls.append(entropy)"
   ]
  },
  {
   "cell_type": "code",
   "execution_count": 7,
   "metadata": {},
   "outputs": [
    {
     "data": {
      "text/plain": [
       "Text(0.5, 0, 'entropy')"
      ]
     },
     "execution_count": 7,
     "metadata": {},
     "output_type": "execute_result"
    },
    {
     "data": {
      "image/png": "[encoded data removed]",
      "text/plain": [
       "<Figure size 432x288 with 1 Axes>"
      ]
     },
     "metadata": {},
     "output_type": "display_data"
    }
   ],
   "source": [
    "import matplotlib.pyplot as plt\n",
    "import numpy as np\n",
    "%matplotlib inline\n",
    "x = entropy_ls\n",
    "plt.hist(x,bins=100)\n",
    "plt.ylabel('count');\n",
    "plt.xlabel('entropy')"
   ]
  },
  {
   "cell_type": "markdown",
   "metadata": {},
   "source": [
    "## 3. bin embedding method"
   ]
  },
  {
   "cell_type": "code",
   "execution_count": 8,
   "metadata": {},
   "outputs": [],
   "source": [
    "N_buckets = 8\n",
    "N_vocab = 50257\n",
    "bucket_size = N_vocab // N_buckets\n",
    "entropy_ls = []\n",
    "for i in range(len(prob_set)):\n",
    "    for j in range(len(prob_set[i])):\n",
    "        whole_p = prob_set[i,j]\n",
    "        bins_p_ls = [np.sum(whole_p[k*bucket_size: (k+1)*bucket_size]) for k in range(N_buckets-1)]\n",
    "        bins_p_ls.append(np.sum(whole_p[(N_buckets-1)*bucket_size:]))\n",
    "        bins_p = np.array(bins_p_ls)\n",
    "        entropy = -bins_p @ np.log2(bins_p)\n",
    "        entropy_ls.append(entropy)"
   ]
  },
  {
   "cell_type": "code",
   "execution_count": 9,
   "metadata": {},
   "outputs": [
    {
     "data": {
      "text/plain": [
       "Text(0.5, 0, 'entropy')"
      ]
     },
     "execution_count": 9,
     "metadata": {},
     "output_type": "execute_result"
    },
    {
     "data": {
      "image/png": "[encoded data removed]",
      "text/plain": [
       "<Figure size 432x288 with 1 Axes>"
      ]
     },
     "metadata": {},
     "output_type": "display_data"
    }
   ],
   "source": [
    "import matplotlib.pyplot as plt\n",
    "import numpy as np\n",
    "%matplotlib inline\n",
    "x = entropy_ls\n",
    "plt.hist(x, bins=100)\n",
    "plt.ylabel('count');\n",
    "plt.xlabel('entropy')"
   ]
  },
  {
   "cell_type": "code",
   "execution_count": 11,
   "metadata": {},
   "outputs": [],
   "source": [
    "entropys = np.array(entropy_ls)\n",
    "mean = np.mean(entropys)\n",
    "var = np.var(entropys)\n",
    "median = np.median(entropys)"
   ]
  },
  {
   "cell_type": "code",
   "execution_count": 12,
   "metadata": {},
   "outputs": [
    {
     "name": "stdout",
     "output_type": "stream",
     "text": [
      "entropy distribution stats\n",
      "mean:  1.0701602250174433 variance:  0.5310554398056302 median:  1.0589543187748816\n"
     ]
    }
   ],
   "source": [
    "print(\"entropy distribution stats\")\n",
    "print(\"mean: \", mean, \"variance: \", var, \"median: \",median)"
   ]
  },
  {
   "cell_type": "markdown",
   "metadata": {},
   "source": [
    "## 5. random shuffle vocab entropy distribution plot"
   ]
  },
  {
   "cell_type": "code",
   "execution_count": 14,
   "metadata": {},
   "outputs": [],
   "source": [
    "index_ls = list(range(N_vocab))\n",
    "N_buckets = 8\n",
    "N_vocab = 50257\n",
    "bucket_size = N_vocab // N_buckets\n",
    "\n",
    "np.random.shuffle(index_ls)\n",
    "\n",
    "entropy_ls = []\n",
    "for i in range(len(prob_set)):\n",
    "    for j in range(len(prob_set[i])):\n",
    "        whole_p = prob_set[i,j][index_ls]\n",
    "        \n",
    "        bins_p_ls = [np.sum(whole_p[k*bucket_size: (k+1)*bucket_size]) for k in range(N_buckets-1)]\n",
    "        bins_p_ls.append(np.sum(whole_p[(N_buckets-1)*bucket_size:]))\n",
    "        bins_p = np.array(bins_p_ls)\n",
    "        entropy = -bins_p @ np.log2(bins_p)\n",
    "        entropy_ls.append(entropy)"
   ]
  },
  {
   "cell_type": "code",
   "execution_count": 15,
   "metadata": {},
   "outputs": [
    {
     "data": {
      "text/plain": [
       "Text(0.5, 0, 'entropy')"
      ]
     },
     "execution_count": 15,
     "metadata": {},
     "output_type": "execute_result"
    },
    {
     "data": {
      "image/png": "[encoded data removed]",
      "text/plain": [
       "<Figure size 432x288 with 1 Axes>"
      ]
     },
     "metadata": {},
     "output_type": "display_data"
    }
   ],
   "source": [
    "import matplotlib.pyplot as plt\n",
    "import numpy as np\n",
    "%matplotlib inline\n",
    "x = entropy_ls\n",
    "plt.hist(x, bins=100)\n",
    "plt.ylabel('count');\n",
    "plt.xlabel('entropy')"
   ]
  },
  {
   "cell_type": "code",
   "execution_count": 16,
   "metadata": {
    "scrolled": true
   },
   "outputs": [
    {
     "name": "stdout",
     "output_type": "stream",
     "text": [
      "entropy distribution stats\n",
      "mean:  2.305038478763132 variance:  0.7263859842824284 median:  2.674860520966889\n"
     ]
    }
   ],
   "source": [
    "entropys = np.array(entropy_ls)\n",
    "mean = np.mean(entropys)\n",
    "var = np.var(entropys)\n",
    "median = np.median(entropys)\n",
    "print(\"entropy distribution stats\")\n",
    "print(\"mean: \", mean, \"variance: \", var, \"median: \",median)"
   ]
  },
  {
   "cell_type": "markdown",
   "metadata": {},
   "source": [
    "## 6. KL divergence"
   ]
  },
  {
   "cell_type": "code",
   "execution_count": 17,
   "metadata": {},
   "outputs": [
    {
     "data": {
      "image/png": "[encoded data removed]",
      "text/plain": [
       "<Figure size 432x288 with 1 Axes>"
      ]
     },
     "metadata": {},
     "output_type": "display_data"
    }
   ],
   "source": [
    "import matplotlib.pyplot as plt\n",
    "import numpy as np\n",
    "# %matplotlib inline\n",
    "f = plt.figure()\n",
    "x = 3 - np.array(entropy_ls)\n",
    "plt.hist(x, bins=50)\n",
    "plt.ylabel('count');\n",
    "plt.xlabel('KL divergence (bit)')\n",
    "\n",
    "plt.show()\n",
    "\n",
    "f.savefig(\"KL.pdf\")"
   ]
  },
  {
   "cell_type": "markdown",
   "metadata": {},
   "source": [
    "## 7. huffman KL"
   ]
  },
  {
   "cell_type": "code",
   "execution_count": 5,
   "metadata": {},
   "outputs": [
    {
     "name": "stdout",
     "output_type": "stream",
     "text": [
      "0.18086862564086914\n",
      "0.1814568042755127\n",
      "0.1811816692352295\n",
      "0.18133974075317383\n",
      "0.18090343475341797\n",
      "0.18214631080627441\n",
      "0.18069911003112793\n",
      "0.18113327026367188\n",
      "0.1812286376953125\n",
      "0.1816577911376953\n",
      "0.18108654022216797\n",
      "0.18172192573547363\n",
      "0.18178367614746094\n",
      "0.18185162544250488\n",
      "0.181898832321167\n",
      "0.1808938980102539\n",
      "0.18141889572143555\n",
      "0.18092942237854004\n",
      "0.1816849708557129\n",
      "0.1816234588623047\n",
      "0.18149399757385254\n",
      "0.1814732551574707\n",
      "0.18223285675048828\n",
      "0.18181228637695312\n",
      "0.18217682838439941\n",
      "0.18214178085327148\n",
      "0.18228960037231445\n",
      "0.18323874473571777\n",
      "0.18213105201721191\n",
      "0.18186211585998535\n",
      "0.18234539031982422\n",
      "0.18163323402404785\n",
      "0.18158507347106934\n",
      "0.18282079696655273\n",
      "0.1819901466369629\n",
      "0.18200302124023438\n",
      "0.18413567543029785\n",
      "0.18240809440612793\n",
      "0.18257498741149902\n",
      "0.1838221549987793\n",
      "0.18305325508117676\n",
      "0.1818842887878418\n",
      "0.1819782257080078\n",
      "0.18168950080871582\n",
      "0.1821756362915039\n",
      "0.18121027946472168\n",
      "0.18140721321105957\n",
      "0.18227052688598633\n",
      "0.1817631721496582\n",
      "0.18213152885437012\n"
     ]
    }
   ],
   "source": [
    "from huffman import build_min_heap, huffman_tree, tv_huffman\n",
    "import time \n",
    "entropy_ls = []\n",
    "for i in range(len(prob_set)):\n",
    "    for j in range(len(prob_set[i])):\n",
    "        p = prob_set[i,j]\n",
    "        heap = build_min_heap(p)\n",
    "        start_time = time.time()\n",
    "        tree = huffman_tree(heap)\n",
    "        end_time = time.time()\n",
    "        time_diff = end_time - start_time\n",
    "        entropy = tv_huffman(tree, p)\n",
    "        entropy_ls.append(entropy)\n",
    "    print(time_diff)"
   ]
  },
  {
   "cell_type": "code",
   "execution_count": 8,
   "metadata": {},
   "outputs": [],
   "source": [
    "kl_ls = [kl for tv, kl in entropy_ls]"
   ]
  },
  {
   "cell_type": "code",
   "execution_count": 9,
   "metadata": {},
   "outputs": [
    {
     "data": {
      "image/png": "[encoded data removed]",
      "text/plain": [
       "<Figure size 432x288 with 1 Axes>"
      ]
     },
     "metadata": {},
     "output_type": "display_data"
    }
   ],
   "source": [
    "import matplotlib.pyplot as plt\n",
    "import numpy as np\n",
    "# %matplotlib inline\n",
    "f = plt.figure()\n",
    "x = np.array(kl_ls)\n",
    "plt.hist(x, bins=50)\n",
    "plt.ylabel('count');\n",
    "plt.xlabel('KL divergence (bit)')\n",
    "\n",
    "plt.show()\n",
    "\n",
    "f.savefig(\"huffman_KL.pdf\")"
   ]
  },
  {
   "cell_type": "code",
   "execution_count": 10,
   "metadata": {},
   "outputs": [
    {
     "name": "stdout",
     "output_type": "stream",
     "text": [
      "0.1236073943203487 0.06345455840699488 0.030881696101359966\n"
     ]
    }
   ],
   "source": [
    "entropys = np.array(kl_ls)\n",
    "mean = np.mean(entropys)\n",
    "var = np.var(entropys)\n",
    "median = np.median(entropys)\n",
    "print(\"entropy distribution stats\")\n",
    "print(\"mean: \", mean, \"variance: \", var, \"median: \",median)"
   ]
  },
  {
   "cell_type": "markdown",
   "metadata": {},
   "source": [
    "## 8. some stats"
   ]
  },
  {
   "cell_type": "code",
   "execution_count": 11,
   "metadata": {},
   "outputs": [
    {
     "name": "stdout",
     "output_type": "stream",
     "text": [
      "115\n"
     ]
    }
   ],
   "source": [
    "count = 0\n",
    "for kl in kl_ls:\n",
    "    if kl > 0.9:\n",
    "        count += 1\n",
    "print(\"kl greater than 0.9 numbers: \", count)"
   ]
  },
  {
   "cell_type": "code",
   "execution_count": 12,
   "metadata": {},
   "outputs": [],
   "source": [
    "min_kl = 1000.0\n",
    "for kl in kl_ls:\n",
    "    if kl < min_kl:\n",
    "        min_kl = kl\n",
    "print(\"min kl: \", min_kl)"
   ]
  },
  {
   "cell_type": "code",
   "execution_count": 30,
   "metadata": {},
   "outputs": [
    {
     "name": "stdout",
     "output_type": "stream",
     "text": [
      "1696\n"
     ]
    },
    {
     "data": {
      "image/png": "[encoded data removed]",
      "text/plain": [
       "<Figure size 432x288 with 1 Axes>"
      ]
     },
     "metadata": {},
     "output_type": "display_data"
    }
   ],
   "source": [
    "min_ls = []\n",
    "for kl in kl_ls:\n",
    "    if kl <= 0.1:\n",
    "        min_ls.append(kl)\n",
    "print(len(min_ls), \"tokens have less than 0.1 KL\")\n",
    "f = plt.figure()\n",
    "x = np.array(min_ls)\n",
    "plt.hist(x, bins=50, range=[0.0, 0.1])\n",
    "plt.ylabel('count');\n",
    "plt.xlabel('KL divergence (bit)')\n",
    "\n",
    "plt.show()\n",
    "\n",
    "f.savefig(\"huffman_KL_0.1.pdf\")"
   ]
  }
 ],
 "metadata": {
  "kernelspec": {
   "display_name": "Python 3",
   "language": "python",
   "name": "python3"
  },
  "language_info": {
   "codemirror_mode": {
    "name": "ipython",
    "version": 3
   },
   "file_extension": ".py",
   "mimetype": "text/x-python",
   "name": "python",
   "nbconvert_exporter": "python",
   "pygments_lexer": "ipython3",
   "version": "3.5.2"
  }
 },
 "nbformat": 4,
 "nbformat_minor": 2
}
