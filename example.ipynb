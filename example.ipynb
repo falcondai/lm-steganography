{
 "cells": [
  {
   "cell_type": "code",
   "execution_count": 1,
   "metadata": {},
   "outputs": [],
   "source": [
    "import math\n",
    "\n",
    "import nacl.secret\n",
    "import nacl.utils\n",
    "\n",
    "from core import Sender, Receiver\n",
    "from gptlm import GptLanguageModel"
   ]
  },
  {
   "cell_type": "code",
   "execution_count": 2,
   "metadata": {},
   "outputs": [
    {
     "name": "stdout",
     "output_type": "stream",
     "text": [
      "INFO:tensorflow:Restoring parameters from ./external/gpt-2/models/117M/model.ckpt\n"
     ]
    }
   ],
   "source": [
    "# Initialize the language model\n",
    "# Restore the trained parameters of GPT-2-117M\n",
    "lm = GptLanguageModel()\n",
    "lm.enc.errors = 'strict'"
   ]
  },
  {
   "cell_type": "code",
   "execution_count": 3,
   "metadata": {},
   "outputs": [
    {
     "name": "stdout",
     "output_type": "stream",
     "text": [
      "Plaintext: b'cookie is in top drawer '\n",
      "Ciphertext: b'\\xde;\\xa4w@>S\\x0b\\xf4\\x8aZ\\xb3\\xe1)\\xdf\\x85\\xc3f+\\xcc\\x99\\xcf\\x84\\x95\\x10\\x07\\x9eI\\x92\\x16X\\x8f\\x0e_1\\x13\\xc29\\x0f\\xb6\\xdf(\\x9bJEz%H\\x11\\xbb!\\x99\\x933\\xd2\\xb3\\xa1\\x16\\xf2\\xc6f\\xfa\\xdc\\xf3'\n"
     ]
    }
   ],
   "source": [
    "# Cryptosystem configs\n",
    "# Secret key encryption (based on https://pynacl.readthedocs.io/en/stable/secret/#example)\n",
    "key = nacl.utils.random(nacl.secret.SecretBox.KEY_SIZE)\n",
    "box = nacl.secret.SecretBox(key)\n",
    "\n",
    "# Alice's secret message (padded with a witespace to make the ciphertext exactly 64 bytes long)\n",
    "plaintext = b'cookie is in top drawer '\n",
    "\n",
    "# Encrypt\n",
    "ciphertext = box.encrypt(plaintext)\n",
    "print('Plaintext:', plaintext)\n",
    "print('Ciphertext:', ciphertext)"
   ]
  },
  {
   "cell_type": "code",
   "execution_count": 4,
   "metadata": {},
   "outputs": [],
   "source": [
    "# Stegosystem configs\n",
    "# Ciphertext length in bits. Set to 64 bytes\n",
    "cipher_text_length = 64 * 8\n",
    "# The imperceptibility parameter in patient-Huffman as introduced in the paper (https://arxiv.org/abs/1907.06679). \n",
    "# Smaller value means more imperceptible but longer stegotext.\n",
    "tv_threshold = 0.1\n",
    "\n",
    "alice_encoder = Sender(lm, None, None, cipher_text_length, tv_threshold, max_sequence_length=160, seed=123)"
   ]
  },
  {
   "cell_type": "code",
   "execution_count": 5,
   "metadata": {},
   "outputs": [],
   "source": [
    "# Convert ciphertext into a list of bits in big-endian\n",
    "ciphertext_in_bits = ''.join(['{:08b}'.format(x) for x in list(ciphertext)])\n",
    "ciphertext_in_bits = [int(x) for x in ciphertext_in_bits]"
   ]
  },
  {
   "cell_type": "code",
   "execution_count": 6,
   "metadata": {},
   "outputs": [
    {
     "name": "stdout",
     "output_type": "stream",
     "text": [
      "A DUMBO: me :me\n",
      "\n",
      "> DO not put off this player: Me: nobody else on his staff\n",
      "\n",
      ">\"anytime always gives me trouble\"\n",
      "\n",
      "\"Pick me up and let's go\"\n",
      "\n",
      "\"Moshe Hadid: don't dwell on someone else's wellbeing.\n",
      "\n",
      ">\"Heaven give me hope\"\n",
      "\n",
      ">\"What am I going to do when I think that was all made up from dream songs and crap like that?\" \"Stone doesn't care. He stands above his regime era of genius.\" \"James Carter: when people say anything is better, you've helped them over the line-up, you helped us down the road, though admittedly you're just as accomplished in some respects. \" Kerrang: you're still able\n"
     ]
    }
   ],
   "source": [
    "# Generate the stegotext\n",
    "stego_inds = alice_encoder.embed_bits(list(ciphertext_in_bits))\n",
    "stego_text = lm.enc.decode(stego_inds)\n",
    "print(stego_text)"
   ]
  },
  {
   "cell_type": "code",
   "execution_count": 7,
   "metadata": {},
   "outputs": [],
   "source": [
    "# Bob decodes Alice's stegotext\n",
    "bob_decoder = Receiver(lm, None, None, cipher_text_length, tv_threshold)\n",
    "recovered_bits = bob_decoder.recover_bits(lm.enc.encode(stego_text), cipher_text_length)"
   ]
  },
  {
   "cell_type": "code",
   "execution_count": 8,
   "metadata": {},
   "outputs": [],
   "source": [
    "# Check that Alice's ciphertext is correctly recovered by Bob\n",
    "assert ''.join([str(x) for x in ciphertext_in_bits]) == ''.join([str(x) for x in recovered_bits])"
   ]
  },
  {
   "cell_type": "code",
   "execution_count": 9,
   "metadata": {},
   "outputs": [
    {
     "data": {
      "text/plain": [
       "b'\\xde;\\xa4w@>S\\x0b\\xf4\\x8aZ\\xb3\\xe1)\\xdf\\x85\\xc3f+\\xcc\\x99\\xcf\\x84\\x95\\x10\\x07\\x9eI\\x92\\x16X\\x8f\\x0e_1\\x13\\xc29\\x0f\\xb6\\xdf(\\x9bJEz%H\\x11\\xbb!\\x99\\x933\\xd2\\xb3\\xa1\\x16\\xf2\\xc6f\\xfa\\xdc\\xf3'"
      ]
     },
     "execution_count": 9,
     "metadata": {},
     "output_type": "execute_result"
    }
   ],
   "source": [
    "# Convert the ciphertext back into bytes for decryption\n",
    "base = [2**(7-n) for n in range(8)]\n",
    "split = [recovered_bits[8 * i : 8 * i + 8] for i in range(len(recovered_bits) // 8)]\n",
    "bytes([sum([base[i] * sp[i] for i in range(8)]) for sp in split])"
   ]
  },
  {
   "cell_type": "code",
   "execution_count": 10,
   "metadata": {},
   "outputs": [
    {
     "data": {
      "text/plain": [
       "b'cookie is in top drawer '"
      ]
     },
     "execution_count": 10,
     "metadata": {},
     "output_type": "execute_result"
    }
   ],
   "source": [
    "# Decrypt\n",
    "box.decrypt(_)"
   ]
  },
  {
   "cell_type": "code",
   "execution_count": null,
   "metadata": {},
   "outputs": [],
   "source": []
  }
 ],
 "metadata": {
  "kernelspec": {
   "display_name": "Python 3",
   "language": "python",
   "name": "python3"
  },
  "language_info": {
   "codemirror_mode": {
    "name": "ipython",
    "version": 3
   },
   "file_extension": ".py",
   "mimetype": "text/x-python",
   "name": "python",
   "nbconvert_exporter": "python",
   "pygments_lexer": "ipython3",
   "version": "3.6.5"
  }
 },
 "nbformat": 4,
 "nbformat_minor": 2
}
